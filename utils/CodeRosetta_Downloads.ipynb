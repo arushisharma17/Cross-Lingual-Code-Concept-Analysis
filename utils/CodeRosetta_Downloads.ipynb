{
 "cells": [
  {
   "cell_type": "markdown",
   "id": "9ec5b757-0111-480c-956d-485ead77b7f2",
   "metadata": {},
   "source": [
    "### Downloads\n",
    "\n",
    "We use the gdown commandline tool to bypass google drive's large file warnings. Set file_id to the appropriate id, found via right click > share > copy link on the file in google drive."
   ]
  },
  {
   "cell_type": "code",
   "execution_count": null,
   "id": "792fa629-6534-4d69-8415-4b5e0c6b304f",
   "metadata": {},
   "outputs": [],
   "source": [
    "# cpp.mono.train.jsonl (fortran/cpp)\n",
    "# https://drive.google.com/file/d/1-Ua9zC-oLfhspSIfpDaKCmnpMUidmQ5p/view?usp=drive_link\n",
    "\n",
    "# fortran.mono.train.jsonl (fortran/cpp)\n",
    "# https://drive.google.com/file/d/15pCLgSmlGMWZSEQZC43_3r_V4SYF1O1j/view?usp=drive_link"
   ]
  },
  {
   "cell_type": "code",
   "execution_count": 4,
   "id": "b06e9945-7f8b-421b-a867-c70cf39cfb06",
   "metadata": {},
   "outputs": [
    {
     "name": "stdout",
     "output_type": "stream",
     "text": [
      "Downloading...\n",
      "From (original): https://drive.google.com/uc?id=1-Ua9zC-oLfhspSIfpDaKCmnpMUidmQ5p\n",
      "From (redirected): https://drive.google.com/uc?id=1-Ua9zC-oLfhspSIfpDaKCmnpMUidmQ5p&confirm=t&uuid=b586faf5-99a6-4647-84e8-6634d2729fb1\n",
      "To: /work/instruction/coms-599-29-f24/group_4_clustering/Cross-Lingual-Code-Concept-Analysis/Data/Fortran-CPP/cpp.mono.train.jsonl\n",
      "100%|██████████████████████████████████████| 1.90G/1.90G [02:30<00:00, 12.6MB/s]\n"
     ]
    }
   ],
   "source": [
    "file_id='1-Ua9zC-oLfhspSIfpDaKCmnpMUidmQ5p'\n",
    "!gdown 'https://drive.google.com/uc?id={file_id}' -O ../Data/Fortran-CPP/"
   ]
  },
  {
   "cell_type": "markdown",
   "id": "29289ad5-71c1-4f39-9b86-68adbec1155f",
   "metadata": {},
   "source": [
    "### Convert to standard parallel corpus format\n",
    "\n",
    "The data is provided in .jsonl format. We don't like this. We like our `{lang_1} ||| {lang_2}` format. This reads that in and converts it over."
   ]
  },
  {
   "cell_type": "code",
   "execution_count": 3,
   "id": "3ac6d812-741b-4ad0-af65-0da2b27521c0",
   "metadata": {},
   "outputs": [
    {
     "name": "stderr",
     "output_type": "stream",
     "text": [
      "364it [00:00, 30884.77it/s]"
     ]
    },
    {
     "name": "stdout",
     "output_type": "stream",
     "text": [
      "Combined file written to ../Data/CPP-Cuda/cpp-cuda.txt\n"
     ]
    },
    {
     "name": "stderr",
     "output_type": "stream",
     "text": [
      "\n"
     ]
    }
   ],
   "source": [
    "import json\n",
    "import tqdm\n",
    "# File paths\n",
    "cpp_file = \"../Data/CPP-Cuda/cpp.para.test.aer.jsonl\"  # Replace with your actual file path\n",
    "fortran_file = \"../Data/CPP-Cuda/cuda.para.test.aer.jsonl\"  # Replace with your actual file path\n",
    "output_file = \"../Data/CPP-Cuda/cpp-cuda.txt\"  # The output file\n",
    "\n",
    "# Open both files and process line by line\n",
    "with open(cpp_file, 'r') as cpp, open(fortran_file, 'r') as fortran, open(output_file, 'w') as output:\n",
    "    for i,line in tqdm.tqdm(enumerate(zip(cpp, fortran))):\n",
    "        cpp_line, fortran_line = line\n",
    "        cpp_data = json.loads(cpp_line)\n",
    "        fortran_data = json.loads(fortran_line)\n",
    "        cpp_text = \" \".join(cpp_data[\"tokens\"]).replace(\"\\n\", \"\\\\n\")\n",
    "        fortran_text = \" \".join(fortran_data[\"tokens\"]).replace(\"\\n\", \"\\\\n\")\n",
    "        # Parse JSON objects\n",
    "        # if i < 50:\n",
    "        #     print(f'{cpp_text} ||| {fortran_text}') \n",
    "    \n",
    "        # Combine with the delimiter and write to the output file\n",
    "        output.write(f\"{cpp_text} ||| {fortran_text}\\n\")\n",
    "\n",
    "print(f\"Combined file written to {output_file}\")\n"
   ]
  },
  {
   "cell_type": "code",
   "execution_count": 1,
   "id": "6d4d0ed8-7899-4df0-8537-dbb5a24a4c9e",
   "metadata": {},
   "outputs": [
    {
     "name": "stdout",
     "output_type": "stream",
     "text": [
      "#include \" mvNormalSampler.h \" \\ n #include \" util/random.h \" \\ n #include \" util/convert.h \" \\ n #include <Eigen/QR> \\ n #include <Eigen/Dense> \\ ntemplate < class MatrixType > \\ nvoid checkIsPosDef ( const MatrixType & information ) \\ n { \\ n typedef Eigen :: Matrix < double , MatrixType :: RowsAtCompileTime , 1 > VecType ; \\ n CVALGRIND_CHECK_INIT :: checkInit ( information . sum ( ) ) ; \\ n if ( information . squaredNorm ( ) > 0 ) \\ n { \\ n if ( ( information - information . transpose ( ) ) . squaredNorm ( ) > 1e-6 ) \\ n { \\ n cout < < information << \" =info/covariance \\n \" << endl ; \\ n THROW ( \" Covariance matrix not symmetric \" ) ; \\ n } \\ n Eigen :: SelfAdjointEigenSolver < MatrixType >  eigenVV ( information ) ; \\ n const VecType & eigvals = eigenVV . eigenvalues ( ) ; \\ n if ( eigvals . minCoeff ( ) < 0 ) \\ n { \\ n cout < < \" Eigenvalues:  \" << eigvals . transpose ( ) << endl ; \\ n CHECK ( eigvals . minCoeff ( ) <= 0 , \" Covariance matrix not +ve definite \" ) ; \\ n } \\ n } \\ n } \\ ntemplate < class MatrixType > \\ nMatrixType matrixSqrt ( const MatrixType & cov ) \\ n { \\ n typedef Eigen :: Matrix < double , MatrixType :: RowsAtCompileTime , 1 > VecType ; \\ n checkIsPosDef ( cov ) ; \\ n Eigen :: SelfAdjointEigenSolver < MatrixType > eigenVV ( cov ) ; \\ n const VecType & eigvals = eigenVV . eigenvalues ( ) ; \\ n const MatrixType & eigVectors = eigenVV . eigenvectors ( ) ; \\ n MatrixType Diag ; Diag . resize ( cov . rows ( ) , cov . cols ( ) ) ; Diag . setZero ( ) ; \\ n MatrixType Diag_test = Diag ; \\ n for ( int i = 0 ; i < cov . rows ( ) ; i ++ ) \\ n { \\ n Diag ( i , i ) = sqrt ( eigvals ( i ) ) ; \\ n Diag_test ( i , i ) = eigvals ( i ) ; \\ n } \\ n MatrixType covarianceSqrt = eigVectors * Diag * eigVectors . transpose ( ) ; \\ n #ifdef _DEBUG \\ n MatrixType covTest = eigVectors * Diag_test * eigVectors . transpose ( ) ; \\ n try { \\ n CHECK ( ! zero ( 0.01 * ( covTest - cov ) . squaredNorm ( ) ) , \" Matrix eigendecomposition failed \" ) ; \\ n } \\ n catch ( ... ) \\ n { \\ n cout << \" eigvals:  \" << eigvals . transpose ( ) << endl ; \\ n cout << \" eigVectors:  \" << eigVectors << endl ; \\ n cout << \" Diag:  \" << Diag << endl ; \\ n cout << \" Diag_test:  \" << Diag_test << endl ; \\ n cout << \" covSqrt:  \" << covarianceSqrt << endl ; \\ n cout << \" covTest:  \" << covTest << endl ; \\ n cout << \" cov:  \" << cov << endl ; \\ n throw ; \\ n } \\ n #endif \\ n if ( IS_DEBUG ) CHECK ( std :: isnan ( covarianceSqrt . sum ( ) ) , \" covSqrt is nan \" ) ; \\ n return covarianceSqrt ; \\ n } \\ ntemplate < class MatrixType > \\ nCMVNormalSampler < MatrixType > :: CMVNormalSampler ( const VecType & mean , const MatrixType & cov ) : mean ( mean ) , mvNormal ( mean . size ( ) ) \\ n { \\ n const bool bVerbose = false ; \\ n if ( bVerbose ) \\ n cout << \" About to sample from MV distn with mean:  \" << mean . transpose ( ) << \"  cov:  \\n \" << cov << endl ; \\ n CVALGRIND_CHECK_INIT :: checkInit ( cov . sum ( ) ) ; \\ n CVALGRIND_CHECK_INIT :: checkInit ( mean . sum ( ) ) ; \\ n if ( IS_DEBUG ) CHECK ( cov . squaredNorm ( ) < 1e-32 , \" cov is 0 \" ) ; \\ n if ( IS_DEBUG ) CHECK ( std :: isnan ( mean . sum ( ) ) , \" mean is nan \" ) ; \\ n if ( IS_DEBUG ) CHECK ( std :: isnan ( cov . sum ( ) ) , \" cov is nan \" ) ; \\ n covSqrt = matrixSqrt < MatrixType > ( cov ) ; \\ n } \\ ntemplate < class MatrixType > \\ ntypename CMVNormalSampler < MatrixType > :: VecType CMVNormalSampler < MatrixType > :: sample ( ) \\ n { \\ n for ( int i = 0 ; i < mean . size ( ) ; i ++ ) \\ n mvNormal ( i ) = CRandom :: Normal ( ) ; \\ n if ( IS_DEBUG && mean . size ( ) > 10 ) \\ n { \\ n double dVar = mvNormal . squaredNorm ( ) / mean . size ( ) ; \\ n CHECK ( dVar < 0.1 || dVar > 10 , \" Error computing normal RVs \" ) \\ n } \\ n VecType sample = mean + covSqrt * mvNormal ; \\ n if ( sample . squaredNorm ( ) == 0 ) \\ n { \\ n THROW ( \" Sample is 0 (extremely unlikely) \" ) ; \\ n } \\ n return sample ; \\ n } \\ ntemplate class CMVNormalSampler < Eigen :: Matrix2d > ; \\ ntemplate class CMVNormalSampler < Eigen :: Matrix3d > ; \\ ntemplate class CMVNormalSampler < Eigen :: MatrixXd > ; \\ ntemplate void checkIsPosDef < > ( const Eigen :: Matrix2d & information ) ; \\ ntemplate void checkIsPosDef < > ( const Eigen :: Matrix3d & information ) ; \\ ntemplate Eigen :: Matrix2d matrixSqrt < > ( const Eigen :: Matrix2d & cov ) ; \\ ntemplate Eigen :: Matrix3d matrixSqrt < > ( const Eigen :: Matrix3d & cov ) ; \\ ntemplate Eigen :: MatrixXd matrixSqrt < > ( const Eigen :: MatrixXd & cov ) ; ||| !###############################################################################\\n!-------------------------------------------------------------------------------\\n\\n  module wamcpl_mod\\n\\n!-------------------------------------------------------------------------------\\n\\n  use wamvar_mod\\n\\n  implicit none\\n\\n!-------------------------------------------------------------------------------\\n\\n  public intact, mixture, mixture_limit, set_ice, set_uv, set_uv0, init_wamcpl\\n  public zyyz, taubb11, taubb12, taubb22, taubb33\\n  public ux, uy, uxx, uxy, uyx, uyy\\n  public bv, bvl, bh1, bh2\\n  public bv_wtv, bv_wtd                   !shenhj 2012-09-22\\n  public mixture_wit                      !shenhj 2012-09-23\\n\\n  private\\n\\n!-------------------------------------------------------------------------------\\n\\n! --- Background 2D currents: ux, uy\\n!     uxy=dux/dy, uxx=dux/dx, uyy=duy/dy, uyx=duy/dx\\n\\n  real, allocatable :: ux(:, :)\\n  real, allocatable :: uy(:, :)\\n  real, allocatable :: uxx(:, :)\\n  real, allocatable :: uxy(:, :)\\n  real, allocatable :: uyx(:, :)\\n  real, allocatable :: uyy(:, :)\\n\\n!-------------------------------------------------------------------------------\\n\\n! --- For wave induced mixing & Reynolds stresses.\\n\\n  real, allocatable :: zyyz(:)\\n\\n! --- Wave induced mixing (m^2/s)\\n  real, pointer :: bv(:, :, :)\\n\\n! --- Wave induced Reynold stresses (m^2/s^2)\\n  real, pointer :: taubb11(:, :, :)\\n  real, pointer :: taubb12(:, :, :)\\n  real, pointer :: taubb22(:, :, :)\\n  real, pointer :: taubb33(:, :, :)\\n\\n  real, pointer :: bvl(:, :, :)\\n  real, pointer :: bh1(:, :, :)\\n  real, pointer :: bh2(:, :, :)\\n  \\n  real, allocatable :: bv_wtv(:, :, :)           !shenhj 2012-09-22\\n  real, allocatable :: bv_wtd(:, :, :)           !shenhj 2012-09-22\\n\\n!-------------------------------------------------------------------------------\\n\\n  integer :: init_ice = 0\\n  double precision :: last_time_ice = -99999.d0\\n\\n  real, allocatable :: noicensp(:, :)\\n  real, allocatable :: icensp(:, :)\\n\\n!-------------------------------------------------------------------------------\\n\\n  contains\\n\\n!-------------------------------------------------------------------------------\\n\\n  include 'set_uv.inc'\\n  include 'intact.inc'\\n\\n  include 'mixture.inc'\\n  include 'mixture_limit.inc'\\n  include 'mixture_wit.inc'              !shenhj 2012-09-22\\n  \\n!-------------------------------------------------------------------------------\\n!@@@@@@@@@@@@@@@@@@@@@@@@@@@@@@@@@@@@@@@@@@@@@@@@@@@@@@@@@@@@@@@@@@@@@@@@@@@@@@@\\n!-------------------------------------------------------------------------------\\n!*DeckYinxq: init_wamcpl\\n\\n  subroutine init_wamcpl(mixflag)\\n\\n!-------------------------------------------------------------------------\\n\\n  implicit none\\n\\n!-------------------------------------------------------------------------\\n\\n  integer, intent(in) :: mixflag\\n\\n!-------------------------------------------------------------------------\\n\\n! --- Background 2D currents: ux, uy\\n!     uxy=dux/dy, uxx=dux/dx, uyy=duy/dy, uyx=duy/dx\\n\\n  allocate(ux(ixs:ixl, iys:iyl) )\\n  allocate(uy(ixs:ixl, iys:iyl) )\\n  allocate(uxx(ixs:ixl, iys:iyl))\\n  allocate(uxy(ixs:ixl, iys:iyl))\\n  allocate(uyx(ixs:ixl, iys:iyl))\\n  allocate(uyy(ixs:ixl, iys:iyl))\\n\\n!-------------------------------------------------------------------------------\\n! --- For wave induced mixing & Reynolds stresses.\\n\\n  allocate(zyyz(kb)             )\\n\\n  if(mixflag == 1)then\\n    allocate(bv(ixs:ixl, iys:iyl, kb)     )\\n    allocate(taubb11(ixs:ixl, iys:iyl, kb))\\n    allocate(taubb12(ixs:ixl, iys:iyl, kb))\\n    allocate(taubb22(ixs:ixl, iys:iyl, kb))\\n    allocate(taubb33(ixs:ixl, iys:iyl, kb))\\n    allocate(ea(kl,jl,ixs:ixl, iys:iyl));   ea = 0.0\\n  elseif(mixflag == 2)then\\n    allocate(bvl(ixs:ixl, iys:iyl, kb)    )\\n    allocate(bh1(ixs:ixl, iys:iyl, kb)    )\\n    allocate(bh2(ixs:ixl, iys:iyl, kb)    )\\n    allocate(taubb11(ixs:ixl, iys:iyl, kb))\\n    allocate(taubb12(ixs:ixl, iys:iyl, kb))\\n    allocate(taubb22(ixs:ixl, iys:iyl, kb))\\n    allocate(taubb33(ixs:ixl, iys:iyl, kb))\\n    allocate(ea(kl,jl,ixs:ixl, iys:iyl));   ea = 0.0\\n  elseif(mixflag >= 3)then\\n    allocate(bv(ixs:ixl, iys:iyl, kb)     )\\n    allocate(bvl(ixs:ixl, iys:iyl, kb)    )\\n    allocate(bh1(ixs:ixl, iys:iyl, kb)    )\\n    allocate(bh2(ixs:ixl, iys:iyl, kb)    )\\n    allocate(taubb11(ixs:ixl, iys:iyl, kb))\\n    allocate(taubb12(ixs:ixl, iys:iyl, kb))\\n    allocate(taubb22(ixs:ixl, iys:iyl, kb))\\n    allocate(taubb33(ixs:ixl, iys:iyl, kb))\\n    allocate(ea(kl,jl,ixs:ixl, iys:iyl));   ea = 0.0\\n    allocate(bv_wtv(ixs:ixl, iys:iyl, kb) )    !shenhj 2012-09-22\\n    allocate(bv_wtd(ixs:ixl, iys:iyl, kb) )    !shenhj 2012-09-22\\n  endif\\n\\n!-------------------------------------------------------------------------------\\n\\n  return\\n\\n!-------------------------------------------------------------------------\\n\\n  end subroutine init_wamcpl\\n\\n!-------------------------------------------------------------------------------\\n\\n  end module wamcpl_mod\\n\\n!-------------------------------------------------------------------------------\\n!###############################################################################\\n\n",
      "\n"
     ]
    }
   ],
   "source": [
    "with open('../Data/CPP-Fortran/tree_sitter_tokenized_leaf.txt', 'r') as f:\n",
    "    for i, line in enumerate(f):\n",
    "        print(line)\n",
    "        if i > -1: \n",
    "            break"
   ]
  }
 ],
 "metadata": {
  "kernelspec": {
   "display_name": "neurox_pip",
   "language": "python",
   "name": "neurox_pip"
  },
  "language_info": {
   "codemirror_mode": {
    "name": "ipython",
    "version": 3
   },
   "file_extension": ".py",
   "mimetype": "text/x-python",
   "name": "python",
   "nbconvert_exporter": "python",
   "pygments_lexer": "ipython3",
   "version": "3.8.13"
  }
 },
 "nbformat": 4,
 "nbformat_minor": 5
}

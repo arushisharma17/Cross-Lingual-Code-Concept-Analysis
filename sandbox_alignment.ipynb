{
 "cells": [
  {
   "cell_type": "code",
   "execution_count": 2,
   "id": "4096d001-3722-4227-a28e-1bd637845632",
   "metadata": {},
   "outputs": [],
   "source": [
    "import os\n",
    "os.environ['HF_HOME'] = '/work/instruction/coms-599-29-f24/group_4_clustering/Cross-Lingual-Code-Concept-Analysis/cache/'"
   ]
  },
  {
   "cell_type": "code",
   "execution_count": null,
   "id": "3b405926-6bf4-42c8-95cf-4eba1448699a",
   "metadata": {},
   "outputs": [],
   "source": [
    "#!./utils_qcri/activation_extraction_without_filtering.sh 0"
   ]
  },
  {
   "cell_type": "code",
   "execution_count": null,
   "id": "65fb3dcb-bde6-46fb-9565-d622fd635958",
   "metadata": {},
   "outputs": [],
   "source": [
    "!./utils_qcri/clustering.sh 500 0 visualize"
   ]
  },
  {
   "cell_type": "code",
   "execution_count": 6,
   "id": "70ef036d-c2a2-4f2c-b21c-0e73b0bf8ea8",
   "metadata": {},
   "outputs": [
    {
     "name": "stdout",
     "output_type": "stream",
     "text": [
      "{('ShortToByteBufferAdapter', 'ShortToByteBufferAdapter'), ('LongToByteBufferAdapter', 'LongToByteBufferAdapter'), ('CharSequenceAdapter', 'CharSequenceAdapter'), ('FloatToByteBufferAdapter', 'FloatToByteBufferAdapter'), ('CharToByteBufferAdapter', 'CharToByteBufferAdapter'), ('IntToByteBufferAdapter', 'IntToByteBufferAdapter'), ('DoubleToByteBufferAdapter', 'DoubleToByteBufferAdapter')}\n",
      "Source Cluster 171 Target Cluster 101\n",
      "Source Cluster Size 7 Target Cluster Size 7\n",
      "7 7\n",
      "{('DescribeRegionsRequest', 'DescribeRegionsRequest'), ('DescribeReservedDBInstancesOfferingsRequest', 'DescribeReservedDBInstancesOfferingsRequest'), ('GetSendQuotaRequest', 'GetSendQuotaRequest'), ('ListTablesRequest', 'ListTablesRequest'), ('DescribeAddressesRequest', 'DescribeAddressesRequest'), ('DeleteMessageRequest', 'DeleteMessageRequest'), ('AllocateAddressRequest', 'AllocateAddressRequest'), ('DescribeCacheSecurityGroupsRequest', 'DescribeCacheSecurityGroupsRequest'), ('DescribeTableRequest', 'DescribeTableRequest'), ('RemovePermissionRequest', 'RemovePermissionRequest'), ('GetSendStatisticsRequest', 'GetSendStatisticsRequest'), ('ListReusableDelegationSetsRequest', 'ListReusableDelegationSetsRequest'), ('ListQueuesRequest', 'ListQueuesRequest'), ('DescribeDhcpOptionsRequest', 'DescribeDhcpOptionsRequest'), ('DescribeAlarmHistoryRequest', 'DescribeAlarmHistoryRequest'), ('DescribeSpotDatafeedSubscriptionRequest', 'DescribeSpotDatafeedSubscriptionRequest'), ('DescribeReservedNodeOfferingsRequest', 'DescribeReservedNodeOfferingsRequest'), ('DescribeSubnetsRequest', 'DescribeSubnetsRequest'), ('DescribeLoadBalancersRequest', 'DescribeLoadBalancersRequest'), ('DescribeVpnGatewaysRequest', 'DescribeVpnGatewaysRequest'), ('DescribeEventCategoriesRequest', 'DescribeEventCategoriesRequest'), ('DescribeCacheClustersRequest', 'DescribeCacheClustersRequest'), ('ListClustersRequest', 'ListClustersRequest'), ('DescribeAvailabilityZonesRequest', 'DescribeAvailabilityZonesRequest'), ('UpdateTableRequest', 'UpdateTableRequest'), ('DescribeClusterVersionsRequest', 'DescribeClusterVersionsRequest'), ('DescribeVirtualInterfacesRequest', 'DescribeVirtualInterfacesRequest'), ('DescribeEventSubscriptionsRequest', 'DescribeEventSubscriptionsRequest'), ('ChangeMessageVisibilityRequest', 'ChangeMessageVisibilityRequest'), ('DescribeCacheEngineVersionsRequest', 'DescribeCacheEngineVersionsRequest'), ('DescribeOrderableClusterOptionsRequest', 'DescribeOrderableClusterOptionsRequest'), ('ListHostedZonesRequest', 'ListHostedZonesRequest'), ('ListIdentitiesRequest', 'ListIdentitiesRequest'), ('DescribeLoadBalancerPoliciesRequest', 'DescribeLoadBalancerPoliciesRequest'), ('DeleteSpotDatafeedSubscriptionRequest', 'DeleteSpotDatafeedSubscriptionRequest'), ('CreateInternetGatewayRequest', 'CreateInternetGatewayRequest'), ('DescribeVirtualGatewaysRequest', 'DescribeVirtualGatewaysRequest'), ('DescribeInternetGatewaysRequest', 'DescribeInternetGatewaysRequest'), ('DescribeSpotPriceHistoryRequest', 'DescribeSpotPriceHistoryRequest'), ('GetQueueUrlRequest', 'GetQueueUrlRequest'), ('ListGeoLocationsRequest', 'ListGeoLocationsRequest'), ('DescribeAlarmsRequest', 'DescribeAlarmsRequest'), ('DescribeReservedCacheNodesRequest', 'DescribeReservedCacheNodesRequest'), ('DescribeReservedInstancesListingsRequest', 'DescribeReservedInstancesListingsRequest'), ('DescribePoliciesRequest', 'DescribePoliciesRequest'), ('DescribeScalingActivitiesRequest', 'DescribeScalingActivitiesRequest'), ('DescribeReservedNodesRequest', 'DescribeReservedNodesRequest'), ('ListDomainNamesRequest', 'ListDomainNamesRequest'), ('DescribeSpotInstanceRequestsRequest', 'DescribeSpotInstanceRequestsRequest'), ('ListPipelinesRequest', 'ListPipelinesRequest'), ('DescribeDBSecurityGroupsRequest', 'DescribeDBSecurityGroupsRequest'), ('DescribeHsmClientCertificatesRequest', 'DescribeHsmClientCertificatesRequest'), ('DescribeScheduledActionsRequest', 'DescribeScheduledActionsRequest'), ('ListOperationsRequest', 'ListOperationsRequest'), ('ScanRequest', 'ScanRequest'), ('DescribeNetworkAclsRequest', 'DescribeNetworkAclsRequest'), ('DescribeLoadBalancerPolicyTypesRequest', 'DescribeLoadBalancerPolicyTypesRequest'), ('GetHostedZoneCountRequest', 'GetHostedZoneCountRequest'), ('DescribeClustersRequest', 'DescribeClustersRequest'), ('DescribeAutoScalingNotificationTypesRequest', 'DescribeAutoScalingNotificationTypesRequest'), ('DescribeReservedInstancesOfferingsRequest', 'DescribeReservedInstancesOfferingsRequest'), ('ListPresetsRequest', 'ListPresetsRequest'), ('ListHealthChecksRequest', 'ListHealthChecksRequest'), ('DescribeEventsRequest', 'DescribeEventsRequest'), ('DescribeImagesRequest', 'DescribeImagesRequest'), ('CreateQueueRequest', 'CreateQueueRequest'), ('DescribeReservedInstancesModificationsRequest', 'DescribeReservedInstancesModificationsRequest'), ('DescribeCustomerGatewaysRequest', 'DescribeCustomerGatewaysRequest'), ('DescribeMetricCollectionTypesRequest', 'DescribeMetricCollectionTypesRequest'), ('DescribeVpcsRequest', 'DescribeVpcsRequest'), ('DescribeVolumesRequest', 'DescribeVolumesRequest'), ('DescribeBundleTasksRequest', 'DescribeBundleTasksRequest'), ('SendMessageRequest', 'SendMessageRequest'), ('DescribeConversionTasksRequest', 'DescribeConversionTasksRequest'), ('DescribeSecurityGroupsRequest', 'DescribeSecurityGroupsRequest'), ('DescribeTerminationPolicyTypesRequest', 'DescribeTerminationPolicyTypesRequest'), ('ListVerifiedEmailAddressesRequest', 'ListVerifiedEmailAddressesRequest'), ('ReceiveMessageRequest', 'ReceiveMessageRequest'), ('DescribeTagsRequest', 'DescribeTagsRequest')}\n",
      "Source Cluster 381 Target Cluster 46\n",
      "Source Cluster Size 82 Target Cluster Size 111\n",
      "79 82\n",
      "{('duplicate', 'duplicate'), ('Duplicate', 'duplicate')}\n",
      "Source Cluster 474 Target Cluster 951\n",
      "Source Cluster Size 2 Target Cluster Size 3\n",
      "2 2\n",
      "{('otherInt', 'otherInt'), ('otherFloat', 'otherFloat'), ('thisInt', 'thisInt'), ('otherDouble', 'otherDouble'), ('otherLong', 'otherLong'), ('thisLong', 'thisLong'), ('thisFloat', 'thisFloat'), ('thisDouble', 'thisDouble')}\n",
      "Source Cluster 553 Target Cluster 219\n",
      "Source Cluster Size 8 Target Cluster Size 12\n",
      "8 8\n",
      "{('otherInt', 'otherInt'), ('otherFloat', 'otherFloat'), ('thisInt', 'thisInt'), ('otherDouble', 'otherDouble'), ('otherLong', 'otherLong'), ('thisLong', 'thisLong'), ('thisFloat', 'thisFloat'), ('thisDouble', 'thisDouble')}\n",
      "Source Cluster 553 Target Cluster 850\n",
      "Source Cluster Size 8 Target Cluster Size 11\n",
      "8 8\n",
      "{('RebootJumpserverRequest', 'RebootJumpserverRequest'), ('GetNamespaceAuthorizationListRequest', 'GetNamespaceAuthorizationListRequest'), ('RegisterPhotoRequest', 'RegisterPhotoRequest'), ('AddImageRequest', 'AddImageRequest'), ('UpdateFaceRequest', 'UpdateFaceRequest'), ('GetRepoWebhookRequest', 'GetRepoWebhookRequest'), ('RevokeTokenRequest', 'RevokeTokenRequest'), ('MoPenDeleteGroupMemberRequest', 'MoPenDeleteGroupMemberRequest'), ('GetPhotosRequest', 'GetPhotosRequest'), ('MergeFacesRequest', 'MergeFacesRequest'), ('CreatePhotoStoreRequest', 'CreatePhotoStoreRequest'), ('GetIndustryInfoListRequest', 'GetIndustryInfoListRequest'), ('GetRepoSourceRepoRequest', 'GetRepoSourceRepoRequest'), ('UpdateRepoSourceRepoRequest', 'UpdateRepoSourceRepoRequest'), ('SearchPhotosRequest', 'SearchPhotosRequest'), ('CreateRepoWebhookRequest', 'CreateRepoWebhookRequest'), ('SetAlbumCoverRequest', 'SetAlbumCoverRequest'), ('DeleteUserSourceAccountRequest', 'DeleteUserSourceAccountRequest'), ('MoPenAddGroupMemberRequest', 'MoPenAddGroupMemberRequest'), ('ModifyStrategyTargetRequest', 'ModifyStrategyTargetRequest'), ('RemoveAlbumPhotosRequest', 'RemoveAlbumPhotosRequest'), ('ListPhotosRequest', 'ListPhotosRequest'), ('DeleteRepoWebhookRequest', 'DeleteRepoWebhookRequest'), ('GetOSSImageAccessRequest', 'GetOSSImageAccessRequest'), ('GetIndustryInfoChildrenListRequest', 'GetIndustryInfoChildrenListRequest'), ('DeleteNamespaceRequest', 'DeleteNamespaceRequest'), ('GetRepoListRequest', 'GetRepoListRequest'), ('ListFacePhotosRequest', 'ListFacePhotosRequest'), ('UpdateRepoAuthorizationRequest', 'UpdateRepoAuthorizationRequest'), ('QueryLicensesRequest', 'QueryLicensesRequest'), ('CancelRepoBuildRequest', 'CancelRepoBuildRequest'), ('DeleteRepoRequest', 'DeleteRepoRequest'), ('GetNamespaceListRequest', 'GetNamespaceListRequest'), ('CreateNamespaceRequest', 'CreateNamespaceRequest'), ('MoPenBindIsvRequest', 'MoPenBindIsvRequest'), ('GetRegionRequest', 'GetRegionRequest'), ('RecognizeLabelRequest', 'RecognizeLabelRequest'), ('DeleteRepoAuthorizationRequest', 'DeleteRepoAuthorizationRequest'), ('DeleteFaceRequest', 'DeleteFaceRequest'), ('UnbindInstance2VpcRequest', 'UnbindInstance2VpcRequest'), ('GetLibraryRequest', 'GetLibraryRequest'), ('UpdateNamespaceAuthorizationRequest', 'UpdateNamespaceAuthorizationRequest'), ('GetDownloadUrlRequest', 'GetDownloadUrlRequest'), ('CreateUserSourceAccountRequest', 'CreateUserSourceAccountRequest'), ('BuyOriginPicturesRequest', 'BuyOriginPicturesRequest'), ('UpdateUserInfoRequest', 'UpdateUserInfoRequest'), ('MoPenCreateDeviceRequest', 'MoPenCreateDeviceRequest'), ('ListMomentPhotosRequest', 'ListMomentPhotosRequest'), ('CreateUserInfoRequest', 'CreateUserInfoRequest'), ('GetEventRequest', 'GetEventRequest'), ('QueryCustomerByPhoneRequest', 'QueryCustomerByPhoneRequest'), ('CreateEventRequest', 'CreateEventRequest'), ('QueryFaceRequest', 'QueryFaceRequest'), ('StartRepoBuildByRuleRequest', 'StartRepoBuildByRuleRequest'), ('BindInstance2VpcRequest', 'BindInstance2VpcRequest'), ('InvokeServiceAsyncRequest', 'InvokeServiceAsyncRequest'), ('SaveTaskForUpdatingRegistrantInfoByIdentityCredentialRequest', 'SaveTaskForUpdatingRegistrantInfoByIdentityCredentialRequest'), ('GetNamespaceRequest', 'GetNamespaceRequest'), ('MoPenQueryCanvasRequest', 'MoPenQueryCanvasRequest'), ('StartJumpserverRequest', 'StartJumpserverRequest'), ('GetUserSourceRepoListRequest', 'GetUserSourceRepoListRequest'), ('DeleteNamespaceAuthorizationRequest', 'DeleteNamespaceAuthorizationRequest'), ('MoveAlbumPhotosRequest', 'MoveAlbumPhotosRequest'), ('RegisterTagRequest', 'RegisterTagRequest'), ('RegisterFaceRequest', 'RegisterFaceRequest'), ('ListTimeLinesRequest', 'ListTimeLinesRequest'), ('GetQuotaRequest', 'GetQuotaRequest'), ('GetOnlineServiceResultRequest', 'GetOnlineServiceResultRequest'), ('ListEventsRequest', 'ListEventsRequest'), ('QueryAuthenticationRequest', 'QueryAuthenticationRequest'), ('CreateTicketRequest', 'CreateTicketRequest'), ('TranslateTextRequest', 'TranslateTextRequest'), ('QueryGroupUsersRequest', 'QueryGroupUsersRequest'), ('EditPhotosRequest', 'EditPhotosRequest'), ('GetMirrorListRequest', 'GetMirrorListRequest'), ('GetAlgorithmListRequest', 'GetAlgorithmListRequest'), ('RenameAlbumRequest', 'RenameAlbumRequest'), ('GetRepoSyncTaskListRequest', 'GetRepoSyncTaskListRequest'), ('RegistrantProfileRealNameVerificationRequest', 'RegistrantProfileRealNameVerificationRequest'), ('TagPhotoRequest', 'TagPhotoRequest'), ('SetFaceCoverRequest', 'SetFaceCoverRequest'), ('GetIndustryInfoRequest', 'GetIndustryInfoRequest'), ('GetRepoBuildLogsRequest', 'GetRepoBuildLogsRequest'), ('MoPenDoRecognizeRequest', 'MoPenDoRecognizeRequest'), ('EditEventRequest', 'EditEventRequest'), ('ReactivatePhotosRequest', 'ReactivatePhotosRequest'), ('OperateEquipmentRequest', 'OperateEquipmentRequest'), ('GetIndustryInfoLineageListRequest', 'GetIndustryInfoLineageListRequest'), ('DeletePhotoStoreRequest', 'DeletePhotoStoreRequest'), ('GetImageManifestRequest', 'GetImageManifestRequest'), ('DeleteEventRequest', 'DeleteEventRequest'), ('MoPenSendMqttMessageRequest', 'MoPenSendMqttMessageRequest'), ('ApplyTokenRequest', 'ApplyTokenRequest'), ('CreateCollectionRequest', 'CreateCollectionRequest'), ('GetUserSourceRepoRefListRequest', 'GetUserSourceRepoRefListRequest'), ('SyncFacePicturesRequest', 'SyncFacePicturesRequest'), ('SetQuotaRequest', 'SetQuotaRequest'), ('GetPhotoStoreRequest', 'GetPhotoStoreRequest'), ('FetchMomentPhotosRequest', 'FetchMomentPhotosRequest'), ('ListTimeLinePhotosRequest', 'ListTimeLinePhotosRequest'), ('SearchRepoRequest', 'SearchRepoRequest'), ('UpdateNamespaceRequest', 'UpdateNamespaceRequest'), ('DeleteCollectionRequest', 'DeleteCollectionRequest'), ('PredictCategoryRequest', 'PredictCategoryRequest'), ('SetMeRequest', 'SetMeRequest'), ('UpdateRepoBuildRuleRequest', 'UpdateRepoBuildRuleRequest'), ('ListRegisteredTagsRequest', 'ListRegisteredTagsRequest'), ('StartImageScanRequest', 'StartImageScanRequest'), ('PostRealTimeDeviceDataRequest', 'PostRealTimeDeviceDataRequest'), ('EditPhotoStoreRequest', 'EditPhotoStoreRequest'), ('CreateNamespaceAuthorizationRequest', 'CreateNamespaceAuthorizationRequest'), ('StartRepoBuildRequest', 'StartRepoBuildRequest'), ('GetSimilarPhotosRequest', 'GetSimilarPhotosRequest'), ('GetRepoAuthorizationListRequest', 'GetRepoAuthorizationListRequest'), ('RecognizePetRequest', 'RecognizePetRequest'), ('GetRepoListByNamespaceRequest', 'GetRepoListByNamespaceRequest'), ('SaveTaskForSubmittingDomainRealNameVerificationByIdentityCredentialRequest', 'SaveTaskForSubmittingDomainRealNameVerificationByIdentityCredentialRequest'), ('QuerySyncPicScheduleRequest', 'QuerySyncPicScheduleRequest'), ('LinkFaceRequest', 'LinkFaceRequest'), ('UpdateKnowledgeRequest', 'UpdateKnowledgeRequest'), ('DeleteTagsRequest', 'DeleteTagsRequest'), ('GetImageLayerRequest', 'GetImageLayerRequest'), ('RemoveFacePhotosRequest', 'RemoveFacePhotosRequest'), ('QueryAddUserInfoRequest', 'QueryAddUserInfoRequest'), ('LikePhotoRequest', 'LikePhotoRequest'), ('RecognizeEntityRequest', 'RecognizeEntityRequest'), ('AsyncResponsePostRequest', 'AsyncResponsePostRequest'), ('ListMomentsRequest', 'ListMomentsRequest'), ('ListPhotoStoresRequest', 'ListPhotoStoresRequest'), ('GetAlbumsByNamesRequest', 'GetAlbumsByNamesRequest'), ('GetSubUserListRequest', 'GetSubUserListRequest'), ('ListFacesRequest', 'ListFacesRequest'), ('InactivatePhotosRequest', 'InactivatePhotosRequest'), ('ListPhotoFacesRequest', 'ListPhotoFacesRequest'), ('GetSearchRequest', 'GetSearchRequest'), ('GetRepoTagsRequest', 'GetRepoTagsRequest'), ('SendMessageRequest', 'SendMessageRequest'), ('BatchSendMessagesRequest', 'BatchSendMessagesRequest'), ('RecognizeFlowerRequest', 'RecognizeFlowerRequest'), ('QueryCustomerByIdRequest', 'QueryCustomerByIdRequest'), ('ModifyJumpserverPasswordRequest', 'ModifyJumpserverPasswordRequest'), ('SearchFaceRequest', 'SearchFaceRequest'), ('GetImageScanRequest', 'GetImageScanRequest'), ('MoveFacePhotosRequest', 'MoveFacePhotosRequest'), ('DeleteRepoBuildRuleRequest', 'DeleteRepoBuildRuleRequest'), ('SearchImageRequest', 'SearchImageRequest'), ('ToggleFeaturesRequest', 'ToggleFeaturesRequest'), ('GetCollectionRequest', 'GetCollectionRequest')}\n",
      "Source Cluster 618 Target Cluster 10\n",
      "Source Cluster Size 150 Target Cluster Size 162\n",
      "148 150\n",
      "{('MessageFormat', 'MessageFormat'), ('Format', 'format')}\n",
      "Source Cluster 930 Target Cluster 930\n",
      "Source Cluster Size 2 Target Cluster Size 2\n",
      "2 2\n",
      "{('SendMessageResponse', 'SendMessageResult'), ('DescribeStacksResponse', 'DescribeStacksResult'), ('DescribeEventsResponse', 'DescribeEventsResult'), ('DescribeCustomerGatewaysResponse', 'DescribeCustomerGatewaysResult'), ('DescribeLoadBalancerPolicyTypesResponse', 'DescribeLoadBalancerPolicyTypesResult'), ('AzureOperationResponse', 'resourceGroupName'), ('ListGeoLocationsResponse', 'ListGeoLocationsResult'), ('CreateInternetGatewayResponse', 'CreateInternetGatewayResult'), ('DescribeReservedNodeOfferingsResponse', 'DescribeReservedNodeOfferingsResult'), ('DescribeClusterSnapshotsResponse', 'DescribeClusterSnapshotsResult'), ('DescribeDBSecurityGroupsResponse', 'DescribeDBSecurityGroupsResult'), ('UpdateTableResponse', 'UpdateTableResult'), ('ListIdentitiesResponse', 'ListIdentitiesResult'), ('DescribeVolumeStatusResponse', 'DescribeVolumeStatusResult'), ('DescribeTagsResponse', 'DescribeTagsResult'), ('AllocateAddressResponse', 'AllocateAddressResult'), ('DescribeCacheSubnetGroupsResponse', 'DescribeCacheSubnetGroupsResult'), ('ListClustersResponse', 'ListClustersResult'), ('ListReusableDelegationSetsResponse', 'ListReusableDelegationSetsResult'), ('DescribeBundleTasksResponse', 'DescribeBundleTasksResult'), ('CreateQueueResponse', 'CreateQueueResult'), ('DescribeClusterSubnetGroupsResponse', 'DescribeClusterSubnetGroupsResult'), ('DescribeReservedInstancesListingsResponse', 'DescribeReservedInstancesListingsResult'), ('DescribeCacheSecurityGroupsResponse', 'DescribeCacheSecurityGroupsResult'), ('DescribeAlarmHistoryResponse', 'DescribeAlarmHistoryResult'), ('DescribeAlarmsResponse', 'DescribeAlarmsResult'), ('ScanResponse', 'ScanResult'), ('DescribeVpcsResponse', 'DescribeVpcsResult'), ('GetQueueUrlResponse', 'GetQueueUrlResult'), ('GetSendQuotaResponse', 'GetSendQuotaResult'), ('DescribeAutoScalingInstancesResponse', 'DescribeAutoScalingInstancesResult'), ('DescribeReservedDBInstancesOfferingsResponse', 'DescribeReservedDBInstancesOfferingsResult'), ('DescribeTerminationPolicyTypesResponse', 'DescribeTerminationPolicyTypesResult'), ('DescribeConversionTasksResponse', 'DescribeConversionTasksResult'), ('DescribeReservedNodesResponse', 'DescribeReservedNodesResult'), ('DescribeInstanceStatusResponse', 'DescribeInstanceStatusResult'), ('DescribeSpotPriceHistoryResponse', 'DescribeSpotPriceHistoryResult'), ('DescribeHsmConfigurationsResponse', 'DescribeHsmConfigurationsResult'), ('DescribeDBSnapshotsResponse', 'DescribeDBSnapshotsResult'), ('DescribeCacheClustersResponse', 'DescribeCacheClustersResult'), ('DescribeAutoScalingGroupsResponse', 'DescribeAutoScalingGroupsResult'), ('DescribeInterconnectsResponse', 'DescribeInterconnectsResult'), ('DescribeHsmClientCertificatesResponse', 'DescribeHsmClientCertificatesResult'), ('DescribeImagesResponse', 'DescribeImagesResult'), ('SendMessageBatchResponse', 'SendMessageBatchResult'), ('GetSendStatisticsResponse', 'GetSendStatisticsResult'), ('DescribeDBParameterGroupsResponse', 'DescribeDBParameterGroupsResult'), ('DescribeLoadBalancersResponse', 'DescribeLoadBalancersResult'), ('DeleteSpotDatafeedSubscriptionResponse', 'DeleteSpotDatafeedSubscriptionResult'), ('DescribeDBSubnetGroupsResponse', 'DescribeDBSubnetGroupsResult'), ('DescribeAccountLimitsResponse', 'DescribeAccountLimitsResult'), ('ListApplicationsResponse', 'ListApplicationsResult'), ('DescribeSecurityGroupsResponse', 'DescribeSecurityGroupsResult'), ('ListTablesResponse', 'ListTablesResult'), ('DescribeRegionsResponse', 'DescribeRegionsResult'), ('DescribeWorkspaceBundlesResponse', 'DescribeWorkspaceBundlesResult'), ('DescribeAutoScalingNotificationTypesResponse', 'DescribeAutoScalingNotificationTypesResult'), ('DescribeSnapshotsResponse', 'DescribeSnapshotsResult'), ('ListStacksResponse', 'ListStacksResult'), ('DescribePlacementGroupsResponse', 'DescribePlacementGroupsResult'), ('DescribeKeyPairsResponse', 'DescribeKeyPairsResult'), ('DescribeReservedCacheNodesResponse', 'DescribeReservedCacheNodesResult'), ('DescribeAccountAttributesResponse', 'DescribeAccountAttributesResult'), ('ListDomainNamesResponse', 'ListDomainNamesResult'), ('ListDomainsResponse', 'ListDomainsResult'), ('ListHostedZonesResponse', 'ListHostedZonesResult'), ('DeleteMessageBatchResponse', 'DeleteMessageBatchResult'), ('DeleteMessageResponse', 'DeleteMessageResult'), ('DescribeMetricCollectionTypesResponse', 'DescribeMetricCollectionTypesResult'), ('ListPresetsResponse', 'ListPresetsResult'), ('DescribeClusterParameterGroupsResponse', 'DescribeClusterParameterGroupsResult'), ('DescribeVpnGatewaysResponse', 'DescribeVpnGatewaysResult'), ('DescribeWorkspacesResponse', 'DescribeWorkspacesResult'), ('DescribeAvailabilityZonesResponse', 'DescribeAvailabilityZonesResult'), ('DescribeVolumesResponse', 'DescribeVolumesResult'), ('DescribeSubnetsResponse', 'DescribeSubnetsResult'), ('DescribeWorkspaceDirectoriesResponse', 'DescribeWorkspaceDirectoriesResult'), ('DescribeClusterVersionsResponse', 'DescribeClusterVersionsResult'), ('DescribeReservedInstancesModificationsResponse', 'DescribeReservedInstancesModificationsResult'), ('DescribeOrderableClusterOptionsResponse', 'DescribeOrderableClusterOptionsResult'), ('DescribeEventSubscriptionsResponse', 'DescribeEventSubscriptionsResult'), ('DescribeScheduledActionsResponse', 'DescribeScheduledActionsResult'), ('DescribeInternetGatewaysResponse', 'DescribeInternetGatewaysResult'), ('DescribeDhcpOptionsResponse', 'DescribeDhcpOptionsResult'), ('DescribeTableResponse', 'DescribeTableResult'), ('DescribeJobFlowsResponse', 'DescribeJobFlowsResult'), ('ReceiveMessageResponse', 'ReceiveMessageResult'), ('DescribeSpotDatafeedSubscriptionResponse', 'DescribeSpotDatafeedSubscriptionResult'), ('ListStreamsResponse', 'ListStreamsResult'), ('ListOperationsResponse', 'ListOperationsResult'), ('DescribeSpotInstanceRequestsResponse', 'DescribeSpotInstanceRequestsResult'), ('DescribeReservedDBInstancesResponse', 'DescribeReservedDBInstancesResult'), ('DescribeNetworkAclsResponse', 'DescribeNetworkAclsResult'), ('DescribeClustersResponse', 'DescribeClustersResult'), ('ListJobsResponse', 'ListJobsResult'), ('DescribeScalingActivitiesResponse', 'DescribeScalingActivitiesResult'), ('DescribeLaunchConfigurationsResponse', 'DescribeLaunchConfigurationsResult'), ('DescribeEventCategoriesResponse', 'DescribeEventCategoriesResult'), ('ListHealthChecksResponse', 'ListHealthChecksResult'), ('DescribeDBInstancesResponse', 'DescribeDBInstancesResult'), ('ListPipelinesResponse', 'ListPipelinesResult'), ('ListVerifiedEmailAddressesResponse', 'ListVerifiedEmailAddressesResult'), ('GetHostedZoneCountResponse', 'GetHostedZoneCountResult'), ('DescribeDomainsResponse', 'DescribeDomainsResult'), ('DescribePoliciesResponse', 'DescribePoliciesResult'), ('DescribeCacheEngineVersionsResponse', 'DescribeCacheEngineVersionsResult'), ('DescribeVirtualGatewaysResponse', 'DescribeVirtualGatewaysResult'), ('DescribeAddressesResponse', 'DescribeAddressesResult'), ('ListQueuesResponse', 'ListQueuesResult'), ('DescribeReplicationGroupsResponse', 'DescribeReplicationGroupsResult'), ('DescribeLoadBalancerPoliciesResponse', 'DescribeLoadBalancerPoliciesResult'), ('DescribeCacheParameterGroupsResponse', 'DescribeCacheParameterGroupsResult'), ('DescribeInstancesResponse', 'DescribeInstancesResult'), ('DescribeVirtualInterfacesResponse', 'DescribeVirtualInterfacesResult'), ('DescribeReservedInstancesOfferingsResponse', 'DescribeReservedInstancesOfferingsResult'), ('GetQueueAttributesResponse', 'GetQueueAttributesResult'), ('DescribeNotificationConfigurationsResponse', 'DescribeNotificationConfigurationsResult'), ('RemovePermissionResponse', 'RemovePermissionResult')}\n",
      "Source Cluster 988 Target Cluster 326\n",
      "Source Cluster Size 120 Target Cluster Size 113\n",
      "113 120\n",
      "Aligned Clusters: 1000\n",
      "Source Cluster 171 is aligned to Target Clusters: 101\n",
      "Source Cluster 381 is aligned to Target Clusters: 46\n",
      "Source Cluster 474 is aligned to Target Clusters: 951\n",
      "Source Cluster 553 is aligned to Target Clusters: 850, 219\n",
      "Source Cluster 618 is aligned to Target Clusters: 10\n",
      "Source Cluster 930 is aligned to Target Clusters: 930\n",
      "Source Cluster 988 is aligned to Target Clusters: 326\n"
     ]
    }
   ],
   "source": [
    "!./utils_qcri/get_alignment.sh 1000 6"
   ]
  },
  {
   "cell_type": "code",
   "execution_count": 7,
   "id": "2b57f7cf-0058-40a3-9f10-afd717dba1b5",
   "metadata": {},
   "outputs": [
    {
     "name": "stdout",
     "output_type": "stream",
     "text": [
      "Submitted batch job 2070382\n"
     ]
    }
   ],
   "source": [
    "!sbatch slurm_job.sh"
   ]
  },
  {
   "cell_type": "code",
   "execution_count": 26,
   "id": "a6f15e85-08d9-42c2-aa1c-2a71806d8635",
   "metadata": {},
   "outputs": [
    {
     "name": "stdout",
     "output_type": "stream",
     "text": [
      "             JOBID PARTITION     NAME     USER ST       TIME  NODES NODELIST(REASON)\n",
      "           2070382       gpu extracti xiaoquan  R    2:16:55      1 amp-8\n",
      "           2070244       gpu interact xiaoquan  R    6:24:34      1 amp-9\n"
     ]
    }
   ],
   "source": [
    "!squeue --me"
   ]
  },
  {
   "cell_type": "code",
   "execution_count": 5,
   "id": "7ea6fd55-7587-43f6-a046-83a3d5875261",
   "metadata": {},
   "outputs": [],
   "source": [
    "!scancel 2070381"
   ]
  },
  {
   "cell_type": "code",
   "execution_count": 6,
   "id": "4834657c-3977-4cb2-871e-39b5631aea82",
   "metadata": {},
   "outputs": [],
   "source": [
    "!rm *.out"
   ]
  },
  {
   "cell_type": "code",
   "execution_count": null,
   "id": "e8a30b33-f4c6-47c2-a77a-c352646831d9",
   "metadata": {},
   "outputs": [],
   "source": [
    "!rm activationsOutput_no_filtering_0/ -r"
   ]
  },
  {
   "cell_type": "code",
   "execution_count": 9,
   "id": "6ea857ee-00f5-43b5-afd6-2cf45d18fd50",
   "metadata": {},
   "outputs": [],
   "source": [
    "!rm activationsOutput_no_filtering_12/ -r"
   ]
  },
  {
   "cell_type": "code",
   "execution_count": 17,
   "id": "daf47469-5aad-4d33-9c45-373e5186f2ee",
   "metadata": {},
   "outputs": [],
   "source": [
    "!rm visualize/layer9 -r"
   ]
  },
  {
   "cell_type": "code",
   "execution_count": null,
   "id": "520e5f17-f6a7-47a2-8924-0e1ea05b2ddb",
   "metadata": {},
   "outputs": [],
   "source": []
  }
 ],
 "metadata": {
  "kernelspec": {
   "display_name": "neurox_pip",
   "language": "python",
   "name": "neurox_pip"
  },
  "language_info": {
   "codemirror_mode": {
    "name": "ipython",
    "version": 3
   },
   "file_extension": ".py",
   "mimetype": "text/x-python",
   "name": "python",
   "nbconvert_exporter": "python",
   "pygments_lexer": "ipython3",
   "version": "3.8.13"
  }
 },
 "nbformat": 4,
 "nbformat_minor": 5
}

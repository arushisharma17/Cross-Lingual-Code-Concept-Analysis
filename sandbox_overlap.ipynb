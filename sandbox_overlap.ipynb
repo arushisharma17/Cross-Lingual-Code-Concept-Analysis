{
 "cells": [
  {
   "cell_type": "code",
   "execution_count": null,
   "id": "f65f07d6-481b-4f30-ab52-10110ae1eb5b",
   "metadata": {},
   "outputs": [],
   "source": [
    "!./utils_qcri/activation_extraction_without_filtering_overlap.sh"
   ]
  },
  {
   "cell_type": "code",
   "execution_count": null,
   "id": "b4be1f60-7c5a-43f9-b433-c9422d7b2267",
   "metadata": {},
   "outputs": [],
   "source": [
    "!./utils_qcri/clustering.sh"
   ]
  },
  {
   "cell_type": "code",
   "execution_count": null,
   "id": "639e63cc-18a9-4917-a0a8-23c23488fc3f",
   "metadata": {},
   "outputs": [],
   "source": [
    "!./utils_qcri/get_overlap.sh"
   ]
  },
  {
   "cell_type": "code",
   "execution_count": null,
   "id": "8c033768-5fa0-4226-ae1d-c0eca41359f8",
   "metadata": {},
   "outputs": [],
   "source": []
  }
 ],
 "metadata": {
  "kernelspec": {
   "display_name": "neurox_pip",
   "language": "python",
   "name": "neurox_pip"
  },
  "language_info": {
   "codemirror_mode": {
    "name": "ipython",
    "version": 3
   },
   "file_extension": ".py",
   "mimetype": "text/x-python",
   "name": "python",
   "nbconvert_exporter": "python",
   "pygments_lexer": "ipython3",
   "version": "3.8.13"
  }
 },
 "nbformat": 4,
 "nbformat_minor": 5
}

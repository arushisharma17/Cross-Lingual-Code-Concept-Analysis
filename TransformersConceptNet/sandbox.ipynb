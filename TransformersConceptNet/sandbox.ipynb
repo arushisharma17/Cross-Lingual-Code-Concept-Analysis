{
 "cells": [
  {
   "cell_type": "code",
   "execution_count": null,
   "id": "d873d2c0-dc48-4017-8285-d6598f7729c0",
   "metadata": {},
   "outputs": [],
   "source": [
    "!python -u app.py -d \"bert-base-cased/\" "
   ]
  },
  {
   "cell_type": "code",
   "execution_count": 2,
   "id": "47d5adb8-1008-463e-9ca6-67177fc2dc7d",
   "metadata": {},
   "outputs": [
    {
     "name": "stdout",
     "output_type": "stream",
     "text": [
      " * Serving Flask app 'app'\n",
      " * Debug mode: on\n",
      "\u001b[31m\u001b[1mWARNING: This is a development server. Do not use it in a production deployment. Use a production WSGI server instead.\u001b[0m\n",
      " * Running on all addresses (0.0.0.0)\n",
      " * Running on http://127.0.0.1:9090\n",
      " * Running on http://10.90.65.77:9090\n",
      "\u001b[33mPress CTRL+C to quit\u001b[0m\n",
      " * Restarting with stat\n",
      " * Debugger is active!\n",
      " * Debugger PIN: 656-001-681\n",
      "^C\n"
     ]
    }
   ],
   "source": [
    "!c"
   ]
  },
  {
   "cell_type": "code",
   "execution_count": 1,
   "id": "8734133c-b34c-4511-8de0-49ce2299711d",
   "metadata": {},
   "outputs": [],
   "source": [
    "!rm app2.py"
   ]
  },
  {
   "cell_type": "code",
   "execution_count": null,
   "id": "ebc92a12-488a-4e13-a339-a3c651271132",
   "metadata": {},
   "outputs": [],
   "source": []
  }
 ],
 "metadata": {
  "kernelspec": {
   "display_name": "neurox_pip",
   "language": "python",
   "name": "neurox_pip"
  },
  "language_info": {
   "codemirror_mode": {
    "name": "ipython",
    "version": 3
   },
   "file_extension": ".py",
   "mimetype": "text/x-python",
   "name": "python",
   "nbconvert_exporter": "python",
   "pygments_lexer": "ipython3",
   "version": "3.8.13"
  }
 },
 "nbformat": 4,
 "nbformat_minor": 5
}

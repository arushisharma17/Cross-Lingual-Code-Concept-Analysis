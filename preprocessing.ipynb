{
 "cells": [
  {
   "cell_type": "code",
   "execution_count": null,
   "id": "139fd9af-9c47-4413-8829-3ec286118d18",
   "metadata": {},
   "outputs": [],
   "source": [
    "!python utils/wordlevel_dict_text.py en-fr.txt forward.align"
   ]
  },
  {
   "cell_type": "code",
   "execution_count": null,
   "id": "65af48c4-2276-4c20-8d47-805f3ff2aca9",
   "metadata": {},
   "outputs": [],
   "source": [
    "!python utils/split.py tokenized-java-cs.txt ./Data/Java-CS"
   ]
  },
  {
   "cell_type": "code",
   "execution_count": null,
   "id": "3618654e-53e2-4eb2-89ff-a8afce38bb4b",
   "metadata": {},
   "outputs": [],
   "source": [
    "!python utils/split.py en-fr.txt ./Data/EN-FR"
   ]
  },
  {
   "cell_type": "code",
   "execution_count": null,
   "id": "f4c939f1-894c-4cb5-89b9-0c5a23b1d837",
   "metadata": {},
   "outputs": [],
   "source": [
    "! ../fast_align/build/fast_align -i tokenized-java-cs-Copy1.txt -d -o -v > forward.align"
   ]
  },
  {
   "cell_type": "code",
   "execution_count": null,
   "id": "10f97f08-0acc-4fca-9823-a72d66c1790c",
   "metadata": {},
   "outputs": [],
   "source": [
    "! ../fast_align/build/fast_align -i en-fr.txt -d -o -v > forward.align"
   ]
  },
  {
   "cell_type": "code",
   "execution_count": null,
   "id": "b778b8fd-0600-48e5-ba08-69d1a921c619",
   "metadata": {},
   "outputs": [],
   "source": [
    "!python utils/mapping_fastalign.py --sentence-file 'tokenized-java-cs-Copy1.txt' --alignment-file 'forward.align' --output-file 'mapping-dict.json'"
   ]
  },
  {
   "cell_type": "code",
   "execution_count": null,
   "id": "02cba9af-87cf-41ae-b609-a4fa82a3b315",
   "metadata": {},
   "outputs": [],
   "source": [
    "!python utils/mapping_fastalign.py --sentence-file 'en-fr.txt' --alignment-file 'forward.align' --output-file 'mapping-dict.json'"
   ]
  },
  {
   "cell_type": "code",
   "execution_count": null,
   "id": "3a191f40-e294-4921-838e-2c6a613b84f0",
   "metadata": {},
   "outputs": [],
   "source": [
    "!python utils/wordlevel_dict.py tokenized-java-cs-Copy1.txt forward.align"
   ]
  },
  {
   "cell_type": "code",
   "execution_count": null,
   "id": "89bc215c-1a12-4f87-93c3-6b617d95cc15",
   "metadata": {},
   "outputs": [],
   "source": [
    "!./utils_qcri/activation_extraction_with_filtering.sh"
   ]
  },
  {
   "cell_type": "code",
   "execution_count": null,
   "id": "15cdb34f-d19c-4f2c-b9cb-8b9b57fd0d7b",
   "metadata": {},
   "outputs": [],
   "source": [
    "!python utils/generate_overlap_text.py"
   ]
  },
  {
   "cell_type": "code",
   "execution_count": null,
   "id": "9319cbc2-14d9-4f79-bae7-2a5645a3185b",
   "metadata": {},
   "outputs": [],
   "source": []
  }
 ],
 "metadata": {
  "kernelspec": {
   "display_name": "neurox_pip",
   "language": "python",
   "name": "neurox_pip"
  },
  "language_info": {
   "codemirror_mode": {
    "name": "ipython",
    "version": 3
   },
   "file_extension": ".py",
   "mimetype": "text/x-python",
   "name": "python",
   "nbconvert_exporter": "python",
   "pygments_lexer": "ipython3",
   "version": "3.8.13"
  }
 },
 "nbformat": 4,
 "nbformat_minor": 5
}

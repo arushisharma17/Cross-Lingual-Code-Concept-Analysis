{
 "cells": [
  {
   "cell_type": "code",
   "execution_count": 1,
   "id": "a57e90cb-54e7-4e0f-bd07-c329b1ea526a",
   "metadata": {},
   "outputs": [
    {
     "name": "stdout",
     "output_type": "stream",
     "text": [
      "Requirement already satisfied: tree-sitter in /work/instruction/coms-599-29-f24/group_4_clustering/.conda/envs/neurox_pip/lib/python3.8/site-packages (0.21.3)\n"
     ]
    }
   ],
   "source": [
    "!pip install tree-sitter"
   ]
  },
  {
   "cell_type": "code",
   "execution_count": 2,
   "id": "cc98cde8-bc90-4b6d-9299-611fe405445f",
   "metadata": {},
   "outputs": [
    {
     "name": "stdout",
     "output_type": "stream",
     "text": [
      "/work/instruction/coms-599-29-f24/group_4_clustering/.conda/envs/neurox_pip/lib/python3.8/site-packages/tree_sitter/__init__.py:36: FutureWarning: Language.build_library is deprecated. Use the new bindings instead.\n",
      "  warn(\"{} is deprecated. Use {} instead.\".format(old, new), FutureWarning)\n",
      "/work/instruction/coms-599-29-f24/group_4_clustering/.conda/envs/neurox_pip/lib/python3.8/site-packages/tree_sitter/__init__.py:36: FutureWarning: Language(path, name) is deprecated. Use Language(ptr, name) instead.\n",
      "  warn(\"{} is deprecated. Use {} instead.\".format(old, new), FutureWarning)\n"
     ]
    }
   ],
   "source": [
    "!python tokenize_corpus.py ../java-cs.txt ../tokenized-java-cs-2.txt --level line"
   ]
  }
 ],
 "metadata": {
  "kernelspec": {
   "display_name": "neurox_pip",
   "language": "python",
   "name": "neurox_pip"
  },
  "language_info": {
   "codemirror_mode": {
    "name": "ipython",
    "version": 3
   },
   "file_extension": ".py",
   "mimetype": "text/x-python",
   "name": "python",
   "nbconvert_exporter": "python",
   "pygments_lexer": "ipython3",
   "version": "3.8.13"
  }
 },
 "nbformat": 4,
 "nbformat_minor": 5
}

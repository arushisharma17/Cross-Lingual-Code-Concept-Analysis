{
 "cells": [
  {
   "cell_type": "code",
   "execution_count": null,
   "id": "02e50fde-f02b-481e-98f7-b533050c9638",
   "metadata": {},
   "outputs": [],
   "source": [
    "! ../fast_align/build/fast_align -i tokenized-java-cs.txt -d -o -v > forward.align"
   ]
  },
  {
   "cell_type": "code",
   "execution_count": 3,
   "id": "407e8a95-2190-4d7f-a119-6ff89063796f",
   "metadata": {},
   "outputs": [],
   "source": [
    "!rm visualize/ -r"
   ]
  },
  {
   "cell_type": "code",
   "execution_count": null,
   "id": "56d21b7b-cb6c-417a-85ac-9332206c4bf9",
   "metadata": {},
   "outputs": [],
   "source": []
  },
  {
   "cell_type": "code",
   "execution_count": null,
   "id": "67b15c59-b454-4a86-988f-2fd73c039973",
   "metadata": {},
   "outputs": [],
   "source": []
  }
 ],
 "metadata": {
  "kernelspec": {
   "display_name": "neurox_pip",
   "language": "python",
   "name": "neurox_pip"
  },
  "language_info": {
   "codemirror_mode": {
    "name": "ipython",
    "version": 3
   },
   "file_extension": ".py",
   "mimetype": "text/x-python",
   "name": "python",
   "nbconvert_exporter": "python",
   "pygments_lexer": "ipython3",
   "version": "3.8.13"
  }
 },
 "nbformat": 4,
 "nbformat_minor": 5
}
